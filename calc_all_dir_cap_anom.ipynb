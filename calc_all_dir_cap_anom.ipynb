{
 "cells": [
  {
   "cell_type": "code",
   "execution_count": 1,
   "metadata": {},
   "outputs": [],
   "source": [
    "import os\n",
    "import numpy as np\n",
    "import healpy as hp\n",
    "import matplotlib.pyplot as plt\n",
    "\n",
    "import cmb_anomaly_utils as cau"
   ]
  },
  {
   "cell_type": "code",
   "execution_count": 2,
   "metadata": {},
   "outputs": [],
   "source": [
    "max_sim_num                     = 1000\n",
    "base_path                       = \"./output/noisy_masked_measure/\"\n",
    "run_inputs  = cau.run_utils.RunInputs()\n",
    "run_inputs.mask_fpath           = \"./input/cmb_fits_files/COM_Mask_CMB-common-Mask-Int_2048_R3.00.fits\"\n",
    "run_inputs.cmb_fpath            = \"./input/cmb_fits_files/COM_CMB_IQU-commander_2048_R3.00_full.fits\"\n",
    "# run_inputs.cmb_dir_anom_fpath   = \"./output/cmb_inpainted_all_dir_cap_anom.txt\"\n",
    "run_inputs.sims_path            = \"./input/commander_sims/\"\n",
    "run_inputs.noise_path           = \"./input/commander_noise/\"\n",
    "# run_inputs.sims_dir_anom_path   = \"./output/sims_inpainted_all_dir_cap_anom_5deg/\"\n",
    "run_inputs.geom_flag            = cau.const.CAP_FLAG\n",
    "run_inputs.measure_flag         = cau.const.STD_FLAG\n",
    "run_inputs.is_masked            = True\n",
    "run_inputs.min_pix_ratio        = 0.1\n",
    "run_inputs.nside                = 64\n",
    "run_inputs.dir_nside            = 16\n",
    "run_inputs.geom_start           = 0\n",
    "run_inputs.geom_stop            = 180\n",
    "run_inputs.delta_geom_samples   = 1\n",
    "run_inputs.stripe_thickness     = 20\n",
    "\n",
    "# all_disc_sizes = np.array([4, 6, 8, 10, 12, 14, 16, 18, 20, 25, 30, 40, 45, 50, 55, 60, 70, 75, 80, 85, 90])"
   ]
  },
  {
   "cell_type": "markdown",
   "metadata": {},
   "source": [
    "### Pepare Temperature Maps"
   ]
  },
  {
   "cell_type": "code",
   "execution_count": 3,
   "metadata": {},
   "outputs": [
    {
     "name": "stdout",
     "output_type": "stream",
     "text": [
      "Warming Up!\n",
      "Reading CMB Data:\n",
      "\t-Done-\n",
      "Providing Simulations:\n",
      "\t1000/1000\n"
     ]
    }
   ],
   "source": [
    "print(\"Warming Up!\")\n",
    "map_gen = cau.run_utils.MapGenerator(**run_inputs.to_kwargs())\n",
    "\n",
    "dummy_map = map_gen.create_dummy_map()\n",
    "dir_lat, dir_lon = cau.coords.get_healpix_latlon(run_inputs.dir_nside)\n",
    "ndir = cau.coords.get_npix(run_inputs.dir_nside)\n",
    "measure_pix_indices = np.arange(ndir, dtype=int)\n",
    "\n",
    "cmb_measure = np.zeros(ndir)\n",
    "sims_measure = np.zeros((max_sim_num, ndir))\n",
    "\n",
    "print(\"Reading CMB Data:\")\n",
    "cmb_map = map_gen.create_cmb_map()\n",
    "cau.map_utils.remove_monopole_dipole(cmb_map)\n",
    "print(\"\\t-Done-\")\n",
    "\n",
    "print(\"Providing Simulations:\")\n",
    "sim_maps = []\n",
    "for sim_num in range(max_sim_num):\n",
    "    print(\"\\t{:04}/{:04}\\r\".format(sim_num+1, max_sim_num), end=\"\")\n",
    "    sim_pix_map = map_gen.create_sim_map_from_txt(sim_num, use_noise=False)\n",
    "    cau.map_utils.remove_monopole_dipole(sim_pix_map)\n",
    "    sim_maps.append(sim_pix_map)\n",
    "print(\"\")"
   ]
  },
  {
   "cell_type": "markdown",
   "metadata": {},
   "source": [
    "### Calculate Cap Measures"
   ]
  },
  {
   "cell_type": "code",
   "execution_count": null,
   "metadata": {},
   "outputs": [],
   "source": [
    "for cap_size in cau.stat_utils.get_range(5, 90, 5):\n",
    "    print(\"Disc Size(deg): {:2}\".format(cap_size))\n",
    "    print(\"Calculating Cap Measures:\")\n",
    "    for dir_i in measure_pix_indices:\n",
    "        print(f\"\\t{dir_i}/{ndir - 1}\\r\", end=\"\")\n",
    "        # Separating Common geometry\n",
    "        plat, plon = dir_lat[dir_i], dir_lon[dir_i]\n",
    "        dummy_map.change_pole(plat, plon)\n",
    "        top_filter, bottom_filter = cau.geometry.get_top_bottom_caps_selection_filters( pix_map = dummy_map,\n",
    "                                                                                        cap_angle = cap_size)\n",
    "        top_cap, bottom_cap = cau.geometry.get_top_bottom_caps_by_filters(pix_map = cmb_map,\n",
    "                                                                        top_sel = top_filter,\n",
    "                                                                        bottom_sel = bottom_filter)\n",
    "        visible_ratio = top_cap.get_visible_pixels_ratio()\n",
    "        # CMB measure\n",
    "        cmb_measure[dir_i] = \\\n",
    "            np.nan if visible_ratio < run_inputs.min_pix_ratio else \\\n",
    "                cau.measure.calc_var(top_cap, **run_inputs.to_kwargs())\n",
    "        # Simulation Measure\n",
    "        for sim_num in range(max_sim_num):\n",
    "            top_cap, bottom_cap = cau.geometry.get_top_bottom_caps_by_filters(  pix_map = sim_maps[sim_num],\n",
    "                                                                                top_sel = top_filter,\n",
    "                                                                                bottom_sel = bottom_filter)\n",
    "            sims_measure[sim_num, dir_i] = \\\n",
    "                np.nan if visible_ratio < run_inputs.min_pix_ratio else \\\n",
    "                    cau.measure.calc_var(top_cap, **run_inputs.to_kwargs())\n",
    "    print(\"\")\n",
    "\n",
    "    np.savetxt(base_path + \"commander_sim_noiseless_var_map_{:02}disc.txt\".format(cap_size), sims_measure)\n",
    "    np.savetxt(base_path + \"commander_cmb_noiseless_var_map_{:02}disc.txt\".format(cap_size), cmb_measure)\n",
    "\n",
    "# print(\"-Done-\")"
   ]
  }
 ],
 "metadata": {
  "kernelspec": {
   "display_name": "base",
   "language": "python",
   "name": "python3"
  },
  "language_info": {
   "codemirror_mode": {
    "name": "ipython",
    "version": 3
   },
   "file_extension": ".py",
   "mimetype": "text/x-python",
   "name": "python",
   "nbconvert_exporter": "python",
   "pygments_lexer": "ipython3",
   "version": "3.10.9"
  }
 },
 "nbformat": 4,
 "nbformat_minor": 2
}
