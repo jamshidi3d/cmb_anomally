{
 "cells": [
  {
   "cell_type": "code",
   "execution_count": 1,
   "metadata": {},
   "outputs": [],
   "source": [
    "from cmb_cpu import cap, measure, coords\n",
    "import numpy as np\n",
    "from numba import njit, prange\n",
    "\n",
    "def anomaly(top_temp, bottom_temp):\n",
    "    return (measure.std_t(top_temp) - measure.std_t(bottom_temp))**2\n",
    "\n",
    "def calc_max_anomaly_dir(sim_temp, sim_pos, poles_coords:np.ndarray, cap_size = 90):\n",
    "    all_dir_anomalies = np.zeros(len(poles_coords))\n",
    "    for i in prange(len(poles_coords)):\n",
    "        pole_lat, pole_lon = poles_coords[i]\n",
    "        rotated_pos = coords.rotate_pole_to_north(pole_lat, pole_lon, sim_pos)\n",
    "        top, bottom = cap.get_top_bottom_caps(sim_temp, rotated_pos, cap_size)\n",
    "        top_temp, bottom_temp = top[0], bottom[0]\n",
    "        all_dir_anomalies[i] = anomaly(top_temp, bottom_temp)\n",
    "    index = np.argmax(all_dir_anomalies)\n",
    "    return poles_coords[index]\n",
    "\n",
    "def calc_all_size_anomaly_in_max_dir(sim_temp, sim_pos, poles_coords:np.ndarray, cap_sizes):\n",
    "    all_size_anomalies = np.zeros(len(cap_sizes))\n",
    "    max_anom_lat, max_anom_lon = calc_max_anomaly_dir(sim_temp, sim_pos, poles_coords)\n",
    "    rotated_pos = coords.rotate_pole_to_north(max_anom_lat, max_anom_lon, sim_pos)\n",
    "    for i in range(len(cap_sizes)):\n",
    "        top, bottom = cap.get_top_bottom_caps(sim_temp, rotated_pos, cap_sizes[i])\n",
    "        top_temp, bottom_temp = top[0], bottom[0]\n",
    "        all_size_anomalies[i] = anomaly(top_temp, bottom_temp)\n",
    "    return all_size_anomalies"
   ]
  },
  {
   "cell_type": "code",
   "execution_count": 4,
   "metadata": {},
   "outputs": [],
   "source": [
    "poles_coords = np.loadtxt(\"./input/icosphere_verts_lat_lon.txt\")\n",
    "cap_sizes = np.arange(10, 180, 10)\n",
    "\n",
    "n_sim = 100\n",
    "n_angles = len(cap_sizes)\n",
    "\n",
    "sim_anomalies = np.zeros((n_sim, n_angles))\n",
    "errors_of_anomaly_vs_size = np.zeros((len(cap_sizes), 3))\n",
    "errors_of_anomaly_vs_size[:,0] = cap_sizes\n",
    "\n",
    "for i in range(0,n_sim):\n",
    "    path_sim_pos  = \"./simulation_data/sim{:05}_pos.txt\".format(i)\n",
    "    path_sim_temp = \"./simulation_data/sim{:05}_temp.txt\".format(i)\n",
    "    sim_pos = np.loadtxt(path_sim_pos)\n",
    "    sim_temp = np.loadtxt(path_sim_temp)\n",
    "    sim_temp *= 10**6\n",
    "    sim_anomalies[i] = calc_all_size_anomaly_in_max_dir(sim_temp, sim_pos, poles_coords, cap_sizes)\n",
    "\n",
    "for i, angle in enumerate(cap_sizes):\n",
    "    errors_of_anomaly_vs_size[i, 2] = np.std(sim_anomalies[:, i])\n",
    "    errors_of_anomaly_vs_size[i, 1] = np.mean(sim_anomalies[:, i])\n",
    "\n",
    "np.savetxt(\"./output/errors_of_anomaly_vs_size.txt\", errors_of_anomaly_vs_size)"
   ]
  }
 ],
 "metadata": {
  "interpreter": {
   "hash": "63fd5069d213b44bf678585dea6b12cceca9941eaf7f819626cde1f2670de90d"
  },
  "kernelspec": {
   "display_name": "Python 3.9.2 64-bit",
   "language": "python",
   "name": "python3"
  },
  "language_info": {
   "codemirror_mode": {
    "name": "ipython",
    "version": 3
   },
   "file_extension": ".py",
   "mimetype": "text/x-python",
   "name": "python",
   "nbconvert_exporter": "python",
   "pygments_lexer": "ipython3",
   "version": "3.9.2"
  },
  "orig_nbformat": 4
 },
 "nbformat": 4,
 "nbformat_minor": 2
}
