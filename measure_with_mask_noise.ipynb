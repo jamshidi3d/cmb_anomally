{
 "cells": [
  {
   "cell_type": "markdown",
   "metadata": {},
   "source": [
    "### Necessary Imports and Settings\n",
    "    for any step in the following notebook"
   ]
  },
  {
   "cell_type": "code",
   "execution_count": 1,
   "metadata": {},
   "outputs": [],
   "source": [
    "import os\n",
    "import numpy as np\n",
    "import healpy as hp\n",
    "import matplotlib.pyplot as plt\n",
    "import warnings\n",
    "warnings.filterwarnings('ignore')\n",
    "\n",
    "import cmb_anomaly_utils as cau"
   ]
  },
  {
   "cell_type": "code",
   "execution_count": 2,
   "metadata": {},
   "outputs": [],
   "source": [
    "base_path                       = \"./output/noisy_masked_measure/\"\n",
    "cmb_series                      = \"commander\"\n",
    "run_inputs  = cau.run_utils.RunInputs()\n",
    "run_inputs.max_sim_num          = 1000\n",
    "run_inputs.mask_fpath           = \"./input/cmb_fits_files/COM_Mask_CMB-common-Mask-Int_2048_R3.00.fits\"\n",
    "run_inputs.cmb_fpath            = \"./input/cmb_fits_files/COM_CMB_IQU-{}_2048_R3.00_full.fits\".format(cmb_series)\n",
    "run_inputs.sims_path            = \"./input/{}_sims/\".format(cmb_series)\n",
    "run_inputs.noise_path           = \"./input/{}_noise/\".format(cmb_series)\n",
    "run_inputs.geom_flag            = cau.const.CAP_FLAG\n",
    "run_inputs.measure_flag         = cau.const.VAR_FLAG\n",
    "run_inputs.is_masked            = True\n",
    "run_inputs.min_pix_ratio        = 0.1\n",
    "run_inputs.nside                = 64\n",
    "run_inputs.dir_nside            = 16\n",
    "run_inputs.geom_start           = 0\n",
    "run_inputs.geom_stop            = 180\n",
    "run_inputs.delta_geom_samples   = 1\n",
    "run_inputs.stripe_thickness     = 20\n",
    "\n",
    "dir_search_cap_sizes = cau.stat_utils.get_range(5, 90, 5)\n",
    "max_sim_num = run_inputs.max_sim_num"
   ]
  },
  {
   "cell_type": "markdown",
   "metadata": {},
   "source": [
    "### Pepare Temperature Maps"
   ]
  },
  {
   "cell_type": "code",
   "execution_count": 3,
   "metadata": {},
   "outputs": [
    {
     "name": "stdout",
     "output_type": "stream",
     "text": [
      "Warming Up!\n",
      "Reading CMB Data:\n",
      "\t-Done-\n",
      "Providing Simulations:\n",
      "\t1000/1000\n"
     ]
    }
   ],
   "source": [
    "print(\"Warming Up!\")\n",
    "\n",
    "map_gen = cau.run_utils.MapGenerator(**run_inputs.to_kwargs())\n",
    "\n",
    "dummy_map = map_gen.create_dummy_map()\n",
    "dir_lat, dir_lon = cau.coords.get_healpix_latlon(run_inputs.dir_nside)\n",
    "ndir = cau.coords.get_npix(run_inputs.dir_nside)\n",
    "measure_dir_indices = np.arange(ndir, dtype=int)\n",
    "\n",
    "cmb_measure = np.zeros(ndir)\n",
    "sims_measure = np.zeros((max_sim_num, ndir))\n",
    "\n",
    "print(\"Reading CMB Data:\")\n",
    "cmb_map = map_gen.create_cmb_map()\n",
    "cau.map_utils.remove_monopole_dipole(cmb_map)\n",
    "print(\"\\t-Done-\")\n",
    "\n",
    "print(\"Providing Simulations:\")\n",
    "sims_maps: list[cau.dtypes.PixMap] = []\n",
    "for sim_num in range(max_sim_num):\n",
    "    print(\"\\t{:04}/{:04}\\r\".format(sim_num + 1, max_sim_num), end=\"\")\n",
    "    sim_pix_map = map_gen.create_sim_map_from_txt(sim_num, use_noise=False)\n",
    "    cau.map_utils.remove_monopole_dipole(sim_pix_map)\n",
    "    sims_maps.append(sim_pix_map)\n",
    "print(\"\")"
   ]
  },
  {
   "cell_type": "markdown",
   "metadata": {},
   "source": [
    "### Calculate Cap (RAW)Variances\n",
    "    \"Pepare Temperature Maps\" Section is needed in memory"
   ]
  },
  {
   "cell_type": "code",
   "execution_count": 5,
   "metadata": {},
   "outputs": [
    {
     "name": "stdout",
     "output_type": "stream",
     "text": [
      "Disc Size(deg): 5.0\n",
      "Calculating Cap Measures:\n",
      "\t3071/3071\n",
      "Disc Size(deg): 10.0\n",
      "Calculating Cap Measures:\n",
      "\t3071/3071\n",
      "Disc Size(deg): 15.0\n",
      "Calculating Cap Measures:\n",
      "\t3071/3071\n",
      "Disc Size(deg): 20.0\n",
      "Calculating Cap Measures:\n",
      "\t3071/3071\n",
      "Disc Size(deg): 25.0\n",
      "Calculating Cap Measures:\n",
      "\t3071/3071\n",
      "Disc Size(deg): 30.0\n",
      "Calculating Cap Measures:\n",
      "\t3071/3071\n",
      "Disc Size(deg): 35.0\n",
      "Calculating Cap Measures:\n",
      "\t3071/3071\n",
      "Disc Size(deg): 40.0\n",
      "Calculating Cap Measures:\n",
      "\t3071/3071\n",
      "Disc Size(deg): 45.0\n",
      "Calculating Cap Measures:\n",
      "\t3071/3071\n",
      "Disc Size(deg): 50.0\n",
      "Calculating Cap Measures:\n",
      "\t3071/3071\n",
      "Disc Size(deg): 55.0\n",
      "Calculating Cap Measures:\n",
      "\t3071/3071\n",
      "Disc Size(deg): 60.0\n",
      "Calculating Cap Measures:\n",
      "\t3071/3071\n",
      "Disc Size(deg): 65.0\n",
      "Calculating Cap Measures:\n",
      "\t3071/3071\n",
      "Disc Size(deg): 70.0\n",
      "Calculating Cap Measures:\n",
      "\t3071/3071\n",
      "Disc Size(deg): 75.0\n",
      "Calculating Cap Measures:\n",
      "\t3071/3071\n",
      "Disc Size(deg): 80.0\n",
      "Calculating Cap Measures:\n",
      "\t3071/3071\n",
      "Disc Size(deg): 85.0\n",
      "Calculating Cap Measures:\n",
      "\t3071/3071\n",
      "Disc Size(deg): 90.0\n",
      "Calculating Cap Measures:\n",
      "\t3071/3071\n"
     ]
    }
   ],
   "source": [
    "for cap_size in dir_search_cap_sizes:\n",
    "    print(\"Disc Size(deg): {:2}\".format(cap_size))\n",
    "    print(\"Calculating Cap Measures:\")\n",
    "    for dir_i in measure_dir_indices:\n",
    "        print(f\"\\t{dir_i}/{ndir - 1}\\r\", end=\"\")\n",
    "        # Separating Common Geometry -> Top cap & Bottom cap\n",
    "        plat, plon = dir_lat[dir_i], dir_lon[dir_i]\n",
    "        dummy_map.change_pole(plat, plon)\n",
    "        top_filter, bottom_filter = cau.geometry.get_top_bottom_caps_selection_filters( pix_map = dummy_map,\n",
    "                                                                                        cap_angle = cap_size)\n",
    "        top_cap, bottom_cap = cau.geometry.get_top_bottom_caps_by_filters( pix_map = cmb_map,\n",
    "                                                                           top_sel = top_filter,\n",
    "                                                                           bottom_sel = bottom_filter)\n",
    "        visible_ratio = top_cap.get_visible_pixels_ratio()\n",
    "        # CMB measure\n",
    "        cmb_measure[dir_i] = \\\n",
    "            np.nan if visible_ratio < run_inputs.min_pix_ratio else \\\n",
    "                cau.measure.calc_var(top_cap, bottom_cap, **run_inputs.to_kwargs())\n",
    "        # Simulation Measure\n",
    "        for sim_num in range(max_sim_num):\n",
    "            top_cap, bottom_cap = cau.geometry.get_top_bottom_caps_by_filters( pix_map = sims_maps[sim_num],\n",
    "                                                                               top_sel = top_filter,\n",
    "                                                                               bottom_sel = bottom_filter)\n",
    "            sims_measure[sim_num, dir_i] = \\\n",
    "                np.nan if visible_ratio < run_inputs.min_pix_ratio else \\\n",
    "                    cau.measure.calc_var(top_cap, bottom_cap, **run_inputs.to_kwargs())\n",
    "    print(\"\")\n",
    "\n",
    "    np.savetxt(base_path + \"{}_sims_var_{:02}cap.txt\".format(cmb_series, cap_size), sims_measure)\n",
    "    np.savetxt(base_path + \"{}_cmb_var_{:02}cap.txt\".format(cmb_series, cap_size), cmb_measure)\n",
    "\n",
    "# print(\"-Done-\")"
   ]
  },
  {
   "cell_type": "markdown",
   "metadata": {},
   "source": [
    "### Finding Dipole Direction on Cap-Var Maps Considering $Mean(Var) \\; \\& \\; Var(Var)$\n",
    "    \"Calculate Cap (RAW)Variances\" Section has to be computed and stored"
   ]
  },
  {
   "cell_type": "code",
   "execution_count": 4,
   "metadata": {},
   "outputs": [],
   "source": [
    "n_cap_sizes = len(dir_search_cap_sizes)\n",
    "\n",
    "# The number of the direction's pixel will be stored\n",
    "cmb_directions = np.zeros((n_cap_sizes))\n",
    "sims_directions = np.zeros((n_cap_sizes, max_sim_num))\n",
    "\n",
    "dummy_map = cau.dtypes.PixMap.create_dummy(run_inputs.dir_nside)\n",
    "\n",
    "for cs_i, cap_size in enumerate(dir_search_cap_sizes):\n",
    "    cmb_var  = np.loadtxt(base_path + \"{}_cmb_var_{:02}cap.txt\".format(cmb_series, cap_size))\n",
    "    sims_var = np.loadtxt(base_path + \"{}_sims_var_{:02}cap.txt\".format(cmb_series, cap_size))\n",
    "\n",
    "    #----COMMON ASSETS----\n",
    "    # Common Mean and Var of Simulated Maps\n",
    "    _mean = np.mean(sims_var, axis = 0)\n",
    "    _var  = np.var(sims_var, axis = 0)\n",
    "    # Common Mask\n",
    "    _mask = np.isnan(cmb_var)\n",
    "    dummy_map.mask = _mask if np.any(_mask) else None\n",
    "    \n",
    "    #----SPECIFIC CALCULATIONS----\n",
    "    # CMB Direction\n",
    "    dummy_map.data = (cmb_var - _mean) / _var\n",
    "    cmb_directions[cs_i] = cau.map_utils.get_dipole_direction_index(pix_map = dummy_map,\n",
    "                                                                    dir_nside = run_inputs.dir_nside)\n",
    "    # Simulations Directions\n",
    "    for sim_num in range(max_sim_num):\n",
    "        dummy_map.data = (sims_var[sim_num] - _mean) / _var\n",
    "        sims_directions[cs_i, sim_num] = \\\n",
    "            cau.map_utils.get_dipole_direction_index(pix_map = dummy_map,\n",
    "                                                     dir_nside = run_inputs.dir_nside)\n",
    "\n",
    "np.savetxt(base_path + \"{}_cmb_var_dir.txt\".format(cmb_series), cmb_directions, fmt = '%i')\n",
    "np.savetxt(base_path + \"{}_sims_var_dir.txt\".format(cmb_series), sims_directions, fmt = '%i')"
   ]
  },
  {
   "cell_type": "markdown",
   "metadata": {},
   "source": [
    "### Taking Stripes and Calculating $Var(T)$ Considering $Mean(Var) \\; \\& \\; Var(Var)$\n",
    "    \"Pepare Temperature Maps\" Section is needed in memory\n",
    "\n",
    "In this section, to compute measures for each map we should:\n",
    "\n",
    "1. take the direction of the target map (it can be CMB or any simulated map) and align all simulated maps to the direction of the target map\n",
    "2. compute measure for stripes in target map and all simulated maps\n",
    "3. subtract the mean of stripes of simulated maps from target map and divide it by the variance of the measure "
   ]
  },
  {
   "cell_type": "code",
   "execution_count": 5,
   "metadata": {},
   "outputs": [
    {
     "name": "stdout",
     "output_type": "stream",
     "text": [
      "Computing stripe measures (subtracting stripes' mean fields)\n",
      "Disc Size(deg): 5.0\n",
      "Computing CMB\n",
      "\t-Done-\n",
      "Computing Simulations\n",
      "\t0304/1000\r"
     ]
    },
    {
     "ename": "KeyboardInterrupt",
     "evalue": "",
     "output_type": "error",
     "traceback": [
      "\u001b[0;31m---------------------------------------------------------------------------\u001b[0m",
      "\u001b[0;31mKeyboardInterrupt\u001b[0m                         Traceback (most recent call last)",
      "Cell \u001b[0;32mIn[5], line 39\u001b[0m\n\u001b[1;32m     36\u001b[0m         plat, plon \u001b[38;5;241m=\u001b[39m dir_lat[dir_index], dir_lon[dir_index]\n\u001b[1;32m     37\u001b[0m         sims_maps[sim_num]\u001b[38;5;241m.\u001b[39mchange_pole(plat, plon)\n\u001b[1;32m     38\u001b[0m         sims_stripe_measures[cs_i, sim_num] \u001b[38;5;241m=\u001b[39m \\\n\u001b[0;32m---> 39\u001b[0m             \u001b[43mcau\u001b[49m\u001b[38;5;241;43m.\u001b[39;49m\u001b[43mmeasure\u001b[49m\u001b[38;5;241;43m.\u001b[39;49m\u001b[43mcalc_measure_subtract_mean_field\u001b[49m\u001b[43m(\u001b[49m\n\u001b[1;32m     40\u001b[0m \u001b[43m                \u001b[49m\u001b[43msims_maps\u001b[49m\u001b[43m[\u001b[49m\u001b[43msim_num\u001b[49m\u001b[43m]\u001b[49m\u001b[43m,\u001b[49m\n\u001b[1;32m     41\u001b[0m \u001b[43m                \u001b[49m\u001b[43msims_maps\u001b[49m\u001b[43m,\u001b[49m\n\u001b[1;32m     42\u001b[0m \u001b[43m                \u001b[49m\u001b[43mstripe_starts\u001b[49m\u001b[43m,\u001b[49m\u001b[43m \u001b[49m\u001b[43mstripe_centers\u001b[49m\u001b[43m,\u001b[49m\u001b[43m \u001b[49m\u001b[43mstripe_ends\u001b[49m\u001b[43m,\u001b[49m\n\u001b[1;32m     43\u001b[0m \u001b[43m                \u001b[49m\u001b[38;5;241;43m*\u001b[39;49m\u001b[38;5;241;43m*\u001b[39;49m\u001b[43mrun_inputs\u001b[49m\u001b[38;5;241;43m.\u001b[39;49m\u001b[43mto_kwargs\u001b[49m\u001b[43m(\u001b[49m\u001b[43m)\u001b[49m\u001b[43m)\u001b[49m\n\u001b[1;32m     44\u001b[0m     \u001b[38;5;28mprint\u001b[39m(\u001b[38;5;124m\"\u001b[39m\u001b[38;5;130;01m\\t\u001b[39;00m\u001b[38;5;124m-Done-\u001b[39m\u001b[38;5;124m\"\u001b[39m)\n\u001b[1;32m     46\u001b[0m np\u001b[38;5;241m.\u001b[39msavetxt(base_path \u001b[38;5;241m+\u001b[39m \u001b[38;5;124m\"\u001b[39m\u001b[38;5;132;01m{}\u001b[39;00m\u001b[38;5;124m_cmb_stripe_var_measure.txt\u001b[39m\u001b[38;5;124m\"\u001b[39m\u001b[38;5;241m.\u001b[39mformat(cmb_series), cmb_stripe_measure)\n",
      "File \u001b[0;32m/mnt/e/PhD/Projects/cmb_anomaly_detection/cmb_anomaly_utils/measure.py:206\u001b[0m, in \u001b[0;36mcalc_measure_subtract_mean_field\u001b[0;34m(pix_map, sims_maps, stripe_starts, stripe_centers, stripe_ends, **kwargs)\u001b[0m\n\u001b[1;32m    204\u001b[0m     \u001b[38;5;28;01mfor\u001b[39;00m sim_num \u001b[38;5;129;01min\u001b[39;00m \u001b[38;5;28mrange\u001b[39m(max_sim_num):\n\u001b[1;32m    205\u001b[0m         dummy_stripe\u001b[38;5;241m.\u001b[39mraw_data \u001b[38;5;241m=\u001b[39m sims_maps[sim_num]\u001b[38;5;241m.\u001b[39mraw_data[stripe_filter]\n\u001b[0;32m--> 206\u001b[0m         aux_measures[sim_num, m_i] \u001b[38;5;241m=\u001b[39m \u001b[43mmfunc\u001b[49m\u001b[43m(\u001b[49m\u001b[43mdummy_stripe\u001b[49m\u001b[43m,\u001b[49m\u001b[43m \u001b[49m\u001b[38;5;28;43;01mNone\u001b[39;49;00m\u001b[43m)\u001b[49m\n\u001b[1;32m    207\u001b[0m \u001b[38;5;66;03m# Subtract Mean Field\u001b[39;00m\n\u001b[1;32m    208\u001b[0m _mean  \u001b[38;5;241m=\u001b[39m np\u001b[38;5;241m.\u001b[39mmean(aux_measures, axis \u001b[38;5;241m=\u001b[39m \u001b[38;5;241m0\u001b[39m)\n",
      "File \u001b[0;32m/mnt/e/PhD/Projects/cmb_anomaly_detection/cmb_anomaly_utils/measure.py:89\u001b[0m, in \u001b[0;36mcalc_var\u001b[0;34m(patch1, patch2, **kwargs)\u001b[0m\n\u001b[1;32m     86\u001b[0m \u001b[38;5;28;01mdef\u001b[39;00m \u001b[38;5;21mcalc_norm_dstd2\u001b[39m(patch1:PixMap, patch2:PixMap, \u001b[38;5;241m*\u001b[39m\u001b[38;5;241m*\u001b[39mkwargs):\n\u001b[1;32m     87\u001b[0m     \u001b[38;5;28;01mreturn\u001b[39;00m (calc_norm_std(patch1, \u001b[38;5;241m*\u001b[39m\u001b[38;5;241m*\u001b[39mkwargs) \u001b[38;5;241m-\u001b[39m calc_norm_std(patch2, \u001b[38;5;241m*\u001b[39m\u001b[38;5;241m*\u001b[39mkwargs))\u001b[38;5;241m*\u001b[39m\u001b[38;5;241m*\u001b[39m\u001b[38;5;241m2\u001b[39m\n\u001b[0;32m---> 89\u001b[0m \u001b[38;5;28;01mdef\u001b[39;00m \u001b[38;5;21mcalc_var\u001b[39m(patch1:PixMap, patch2:PixMap, \u001b[38;5;241m*\u001b[39m\u001b[38;5;241m*\u001b[39mkwargs):\n\u001b[1;32m     90\u001b[0m     \u001b[38;5;28;01mreturn\u001b[39;00m su\u001b[38;5;241m.\u001b[39mvar_pix_map(patch1)\n\u001b[1;32m     92\u001b[0m \u001b[38;5;28;01mdef\u001b[39;00m \u001b[38;5;21mcalc_mean\u001b[39m(patch1:PixMap, patch2:PixMap \u001b[38;5;241m=\u001b[39m \u001b[38;5;28;01mNone\u001b[39;00m, \u001b[38;5;241m*\u001b[39m\u001b[38;5;241m*\u001b[39mkwargs):\n",
      "\u001b[0;31mKeyboardInterrupt\u001b[0m: "
     ]
    }
   ],
   "source": [
    "cmb_directions  = np.loadtxt(base_path + \"{}_cmb_var_dir.txt\".format(cmb_series), dtype=int)\n",
    "sims_directions = np.loadtxt(base_path + \"{}_sims_var_dir.txt\".format(cmb_series), dtype=int)\n",
    "\n",
    "dir_lat, dir_lon = cau.coords.get_healpix_latlon(run_inputs.dir_nside)\n",
    "\n",
    "n_cap_sizes = len(dir_search_cap_sizes)\n",
    "\n",
    "cmb_stripe_measure   = np.zeros((n_cap_sizes, len(run_inputs.geom_range)))\n",
    "sims_stripe_measures = np.zeros((n_cap_sizes, max_sim_num, len(run_inputs.geom_range)))\n",
    "\n",
    "# Unified Stripe Limits\n",
    "stripe_starts, stripe_centers, stripe_ends = \\\n",
    "    cau.geometry.get_stripe_limits(run_inputs.stripe_thickness, run_inputs.geom_range)\n",
    "\n",
    "print(\"Computing stripe measures (subtracting stripes' mean fields)\")\n",
    "for cs_i, cap_size in enumerate(dir_search_cap_sizes):\n",
    "    print(\"Disc Size(deg): {:2}\".format(cap_size))\n",
    "    #----CMB Measure----\n",
    "    print(\"Computing CMB\")\n",
    "    dir_index = cmb_directions[cs_i]\n",
    "    plat, plon = dir_lat[dir_index], dir_lon[dir_index]\n",
    "    cmb_map.change_pole(plat, plon)\n",
    "    cmb_stripe_measure[cs_i] = \\\n",
    "        cau.measure.calc_measure_subtract_mean_field(\n",
    "            cmb_map,\n",
    "            sims_maps,\n",
    "            stripe_starts, stripe_centers, stripe_ends,\n",
    "            **run_inputs.to_kwargs())\n",
    "    print(\"\\t-Done-\")\n",
    "\n",
    "    #----Simulation Measure----\n",
    "    print(\"Computing Simulations\")\n",
    "    for sim_num in range(max_sim_num):\n",
    "        print(\"\\t{:04}/{:04}\\r\".format(sim_num + 1, max_sim_num), end=\"\")\n",
    "        dir_index = sims_directions[cs_i, sim_num]\n",
    "        plat, plon = dir_lat[dir_index], dir_lon[dir_index]\n",
    "        sims_maps[sim_num].change_pole(plat, plon)\n",
    "        sims_stripe_measures[cs_i, sim_num] = \\\n",
    "            cau.measure.calc_measure_subtract_mean_field(\n",
    "                sims_maps[sim_num],\n",
    "                sims_maps,\n",
    "                stripe_starts, stripe_centers, stripe_ends,\n",
    "                **run_inputs.to_kwargs())\n",
    "    print(\"\\t-Done-\")\n",
    "    \n",
    "np.savetxt(base_path + \"{}_cmb_stripe_var_measure.txt\".format(cmb_series), cmb_stripe_measure)\n",
    "np.savetxt(base_path + \"{}_sims_stripe_var_measure.txt\".format(cmb_series), sims_stripe_measures)"
   ]
  }
 ],
 "metadata": {
  "kernelspec": {
   "display_name": "base",
   "language": "python",
   "name": "python3"
  },
  "language_info": {
   "codemirror_mode": {
    "name": "ipython",
    "version": 3
   },
   "file_extension": ".py",
   "mimetype": "text/x-python",
   "name": "python",
   "nbconvert_exporter": "python",
   "pygments_lexer": "ipython3",
   "version": "3.10.9"
  }
 },
 "nbformat": 4,
 "nbformat_minor": 2
}
